{
 "cells": [
  {
   "cell_type": "code",
   "execution_count": 1,
   "metadata": {},
   "outputs": [],
   "source": [
    "import matplotlib.pyplot as plt\n",
    "import tensorflow as tf\n",
    "from tensorflow import keras\n",
    "from tensorflow.keras import optimizers,losses,datasets\n",
    "from tensorflow.keras.models import Sequential\n",
    "from tensorflow.keras.layers import Dense,Dropout\n",
    "from tensorflow.keras.preprocessing.image import load_img,img_to_array,array_to_img"
   ]
  },
  {
   "cell_type": "code",
   "execution_count": 19,
   "metadata": {},
   "outputs": [],
   "source": [
    "def load_image(filename):\n",
    "    img = load_img(filename, color_mode = \"grayscale\", target_size = (28,28))\n",
    "    plt.imshow(img, cmap = 'Greys')\n",
    "    img = img_to_array(img)\n",
    "    img = img.reshape(1, 28, 28, 1)\n",
    "    img = img.astype('float32')\n",
    "    img = img / 255.0\n",
    "    \n",
    "    return img\n",
    "    "
   ]
  },
  {
   "cell_type": "code",
   "execution_count": 11,
   "metadata": {},
   "outputs": [
    {
     "name": "stdout",
     "output_type": "stream",
     "text": [
      "Model: \"sequential\"\n",
      "_________________________________________________________________\n",
      "Layer (type)                 Output Shape              Param #   \n",
      "=================================================================\n",
      "Inputs (Dense)               (None, 784)               615440    \n",
      "_________________________________________________________________\n",
      "Hidden1 (Dense)              (None, 392)               307720    \n",
      "_________________________________________________________________\n",
      "Dropou1 (Dropout)            (None, 392)               0         \n",
      "_________________________________________________________________\n",
      "Hidden2 (Dense)              (None, 196)               77028     \n",
      "_________________________________________________________________\n",
      "Dropout2 (Dropout)           (None, 196)               0         \n",
      "_________________________________________________________________\n",
      "Output (Dense)               (None, 10)                1970      \n",
      "=================================================================\n",
      "Total params: 1,002,158\n",
      "Trainable params: 1,002,158\n",
      "Non-trainable params: 0\n",
      "_________________________________________________________________\n"
     ]
    }
   ],
   "source": [
    "model = keras.models.load_model('modelim.h5')\n",
    "model.summary()"
   ]
  },
  {
   "cell_type": "code",
   "execution_count": 35,
   "metadata": {},
   "outputs": [
    {
     "name": "stdout",
     "output_type": "stream",
     "text": [
      "Predict:  9\n"
     ]
    },
    {
     "data": {
      "image/png": "[encoded data removed]",
      "text/plain": [
       "<Figure size 432x288 with 1 Axes>"
      ]
     },
     "metadata": {
      "needs_background": "light"
     },
     "output_type": "display_data"
    }
   ],
   "source": [
    "query_img = load_image(\"9.png\")\n",
    "pred = model.predict(query_img.reshape(-1, 28*28))\n",
    "print(\"Predict: \", pred.argmax())"
   ]
  }
 ],
 "metadata": {
  "kernelspec": {
   "display_name": "Python 3",
   "language": "python",
   "name": "python3"
  },
  "language_info": {
   "codemirror_mode": {
    "name": "ipython",
    "version": 3
   },
   "file_extension": ".py",
   "mimetype": "text/x-python",
   "name": "python",
   "nbconvert_exporter": "python",
   "pygments_lexer": "ipython3",
   "version": "3.6.9"
  }
 },
 "nbformat": 4,
 "nbformat_minor": 4
}
